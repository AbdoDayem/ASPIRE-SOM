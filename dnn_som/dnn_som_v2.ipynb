{
 "cells": [
  {
   "cell_type": "markdown",
   "metadata": {},
   "source": [
    "# DNN SOM"
   ]
  },
  {
   "cell_type": "markdown",
   "metadata": {},
   "source": [
    "## Imports & Globals"
   ]
  },
  {
   "cell_type": "code",
   "execution_count": 33,
   "metadata": {},
   "outputs": [],
   "source": [
    "## Imports\n",
    "from sklearn.metrics import classification_report\n",
    "import classifiers\n",
    "from data import mfcc_arr, pca_matrix\n",
    "import pickle\n",
    "from collections import defaultdict\n",
    "from functools import partial\n",
    "from itertools import count\n",
    "import numpy as np\n",
    "from sklearn.model_selection import train_test_split\n",
    "from minisom import MiniSom\n",
    "import torch\n",
    "import torch.nn as nn\n",
    "import torch.optim as optim\n",
    "\n",
    "torch.device(\"cuda\")\n",
    "\n",
    "## Globals\n",
    "# Dataset\n",
    "DATASET = \"16000_pcm_speeches\"\n",
    "PCA_COMPONENTS = 80\n",
    "AUDIO_TIME = 0.99 #sec\n",
    "\n",
    "# Model\n",
    "SOM_NAME = \"NN_SOM\"\n",
    "MSIZE = [32, 1]\n",
    "NRADIUS = 2.0\n",
    "REF_SOM_EPOCHS = 5000\n",
    "SOM_EPOCHS = 50\n",
    "LEARN_RATE = 0.5\n",
    "NN_EPOCHS = 50\n",
    "NN_BATCH = 20\n",
    "CLASSES = 5\n",
    "LAMBDA = 5"
   ]
  },
  {
   "cell_type": "markdown",
   "metadata": {},
   "source": [
    "## Dataset"
   ]
  },
  {
   "cell_type": "markdown",
   "metadata": {},
   "source": [
    "Create data files from raw audio"
   ]
  },
  {
   "cell_type": "code",
   "execution_count": null,
   "metadata": {},
   "outputs": [
    {
     "name": "stdout",
     "output_type": "stream",
     "text": [
      "Processing Data\n"
     ]
    },
    {
     "name": "stderr",
     "output_type": "stream",
     "text": [
      "  0%|          | 0/10500 [00:00<?, ?it/s]"
     ]
    },
    {
     "name": "stderr",
     "output_type": "stream",
     "text": [
      "100%|██████████| 10500/10500 [00:30<00:00, 339.80it/s]\n"
     ]
    },
    {
     "name": "stdout",
     "output_type": "stream",
     "text": [
      "Data Shape: (10500, 620)\n"
     ]
    }
   ],
   "source": [
    "mfcc_arr(DATASET, AUDIO_TIME)\n",
    "pca_matrix(DATASET, AUDIO_TIME, PCA_COMPONENTS)"
   ]
  },
  {
   "cell_type": "markdown",
   "metadata": {},
   "source": [
    "Load data files"
   ]
  },
  {
   "cell_type": "code",
   "execution_count": 34,
   "metadata": {},
   "outputs": [
    {
     "name": "stdout",
     "output_type": "stream",
     "text": [
      "(6777, 80)\n",
      "(6777,)\n"
     ]
    }
   ],
   "source": [
    "with open('./data_files/' + DATASET + \"/\" + str(AUDIO_TIME) + \"sec_\" + str(PCA_COMPONENTS) + \"PCA_data.p\", 'rb') as infile:\n",
    "#with open('./data_files/' + DATASET + \"/\" + str(AUDIO_TIME) + \"sec_\" + \"data.p\", 'rb') as infile:\n",
    "    data = pickle.load(infile)\n",
    "with open('./data_files/' + DATASET + \"/\" + str(AUDIO_TIME) + \"sec_labels.p\", 'rb') as infile:\n",
    "    labels = pickle.load(infile)\n",
    "\n",
    "print(np.shape(data))\n",
    "print(np.shape(labels))"
   ]
  },
  {
   "cell_type": "markdown",
   "metadata": {},
   "source": [
    "Format data"
   ]
  },
  {
   "cell_type": "code",
   "execution_count": 35,
   "metadata": {},
   "outputs": [
    {
     "name": "stdout",
     "output_type": "stream",
     "text": [
      "torch.Size([6099, 80])\n",
      "torch.Size([6099, 5])\n"
     ]
    }
   ],
   "source": [
    "#labels = [int(i) for i in labels]\n",
    "label_to_number = defaultdict(partial(next, count(1)))\n",
    "y = np.zeros((len(labels), len(np.unique(labels))))\n",
    "for i in range(len(labels)):\n",
    "    y[i][label_to_number[labels[i]] - 1] = 1\n",
    " \n",
    "X_train, X_test, y_train, y_test = train_test_split(data, y, test_size = 0.1, train_size = 0.9, stratify=y)\n",
    "X_train = torch.tensor(X_train, dtype = torch.float32)\n",
    "y_train = torch.tensor(y_train, dtype = torch.float32)\n",
    "X_test = torch.tensor(X_test, dtype = torch.float32)\n",
    "y_test = torch.tensor(y_test, dtype = torch.float32)\n",
    "\n",
    "print(X_train.shape)\n",
    "print(y_train.shape)"
   ]
  },
  {
   "cell_type": "markdown",
   "metadata": {},
   "source": [
    "## Model"
   ]
  },
  {
   "cell_type": "markdown",
   "metadata": {},
   "source": [
    "DNN's SOM"
   ]
  },
  {
   "cell_type": "code",
   "execution_count": 36,
   "metadata": {},
   "outputs": [
    {
     "name": "stdout",
     "output_type": "stream",
     "text": [
      "(32, 1, 64)\n"
     ]
    }
   ],
   "source": [
    "dnn_som = MiniSom(\n",
    "    x             = MSIZE[0], \n",
    "    y             = MSIZE[1], \n",
    "    input_len     = 64,\n",
    "    sigma         = NRADIUS,\n",
    "    learning_rate = LEARN_RATE,\n",
    "    random_seed   = None)\n",
    "\n",
    "print(dnn_som._weights.shape)"
   ]
  },
  {
   "cell_type": "markdown",
   "metadata": {},
   "source": [
    "DNN"
   ]
  },
  {
   "cell_type": "code",
   "execution_count": 37,
   "metadata": {},
   "outputs": [],
   "source": [
    "class DNN(nn.Module):\n",
    "    def __init__(self):\n",
    "        super().__init__()\n",
    "        self.h1 = nn.Linear(X_train.shape[1], 64)\n",
    "        self.a1 = nn.ReLU()\n",
    "        self.h2 = nn.Linear(64, 32)\n",
    "        self.a2 = nn.ReLU()\n",
    "        self.out = nn.Linear(32, CLASSES)\n",
    "        self.a_out = nn.Sigmoid()\n",
    "    def forward(self, x):\n",
    "        x = self.a1(self.h1(x))\n",
    "        x_som = torch.clone(x).detach().numpy()\n",
    "        x = self.a2(self.h2(x))\n",
    "\n",
    "        dnn_som._weights = torch.clone(self.h2.weight).detach().numpy()\n",
    "        dnn_som._weights = np.reshape(dnn_som._weights, (32, 1, 64))\n",
    "        dnn_som.train_random(x_som, SOM_EPOCHS, verbose = False)\n",
    "        self.h2.weight = torch.nn.parameter.Parameter(torch.tensor(np.reshape(dnn_som._weights, (32, 64))))\n",
    "\n",
    "        x = self.a_out(self.out(x))\n",
    "        return x, x_som\n",
    "model = DNN()"
   ]
  },
  {
   "cell_type": "markdown",
   "metadata": {},
   "source": [
    "Reference SOM"
   ]
  },
  {
   "cell_type": "code",
   "execution_count": 38,
   "metadata": {},
   "outputs": [],
   "source": [
    "som = MiniSom(\n",
    "    x             = MSIZE[0], \n",
    "    y             = MSIZE[1], \n",
    "    input_len     = X_train[0].shape[0],\n",
    "    sigma         = NRADIUS,\n",
    "    learning_rate = LEARN_RATE,\n",
    "    random_seed   = None)"
   ]
  },
  {
   "cell_type": "markdown",
   "metadata": {},
   "source": [
    "Reference DNN"
   ]
  },
  {
   "cell_type": "code",
   "execution_count": 39,
   "metadata": {},
   "outputs": [
    {
     "name": "stdout",
     "output_type": "stream",
     "text": [
      "REFDNN(\n",
      "  (h1): Linear(in_features=80, out_features=64, bias=True)\n",
      "  (a1): ReLU()\n",
      "  (h2): Linear(in_features=64, out_features=32, bias=True)\n",
      "  (a2): ReLU()\n",
      "  (out): Linear(in_features=32, out_features=5, bias=True)\n",
      "  (a_out): Sigmoid()\n",
      ")\n"
     ]
    }
   ],
   "source": [
    "class REFDNN(nn.Module):\n",
    "    def __init__(self):\n",
    "        super().__init__()\n",
    "        self.h1 = nn.Linear(X_train.shape[1], 64)\n",
    "        self.a1 = nn.ReLU()\n",
    "        self.h2 = nn.Linear(64, 32)\n",
    "        self.a2 = nn.ReLU()\n",
    "        self.out = nn.Linear(32, CLASSES)\n",
    "        self.a_out = nn.Sigmoid()\n",
    "    def forward(self, x):\n",
    "        x = self.a1(self.h1(x))\n",
    "        x = self.a2(self.h2(x))\n",
    "        x = self.a_out(self.out(x))\n",
    "        return x\n",
    "\n",
    "ref_dnn = REFDNN()\n",
    "print(ref_dnn)"
   ]
  },
  {
   "cell_type": "markdown",
   "metadata": {},
   "source": [
    "## Training"
   ]
  },
  {
   "cell_type": "markdown",
   "metadata": {},
   "source": [
    "DNN SOM"
   ]
  },
  {
   "cell_type": "code",
   "execution_count": null,
   "metadata": {},
   "outputs": [
    {
     "name": "stdout",
     "output_type": "stream",
     "text": [
      "Epoch: 0| Loss: 1.50896418094635\n",
      "Epoch: 10| Loss: 1.8821401596069336\n",
      "Epoch: 20| Loss: 1.6321722269058228\n",
      "Epoch: 30| Loss: 1.6321722269058228\n",
      "Epoch: 40| Loss: 1.6321722269058228\n"
     ]
    }
   ],
   "source": [
    "## TODO: Regular Cross Entropy Loss\n",
    "## TODO: Take the bus the healys lab\n",
    "## TODO: Try with CNN\n",
    "## TODO: Visualization\n",
    "\n",
    "loss_fn = nn.CrossEntropyLoss()\n",
    "optimizer = optim.SGD(model.parameters(), lr=0.01)\n",
    " \n",
    "epoch_x = []\n",
    "loss_y = []\n",
    "acc_y = []\n",
    "for epoch in range(NN_EPOCHS):\n",
    "    epoch_x.append(epoch)\n",
    "\n",
    "    for i in range(0, len(X_train), NN_BATCH):\n",
    "        Xbatch = X_train[i:i+NN_BATCH]\n",
    "        y_pred, x_som = model(Xbatch)\n",
    "        ybatch = y_train[i:i+NN_BATCH]\n",
    "        loss = loss_fn(y_pred, ybatch)\n",
    "        optimizer.zero_grad()\n",
    "        loss.backward()\n",
    "        optimizer.step()\n",
    "\n",
    "    with torch.no_grad():\n",
    "        nn_y_pred, SOM_X_train = model(X_train)\n",
    "\n",
    "    if epoch == 0: dnn_som.random_weights_init(SOM_X_train)\n",
    "    acc_y.append((nn_y_pred.round() == y_train).float().mean())\n",
    "    loss_y.append(loss)\n",
    "    if epoch % 10 == 0: print(f'Epoch: {epoch}| Loss: {loss}')\n",
    "\n",
    "with torch.no_grad():\n",
    "    dnnsom_nn_y_pred, SOM_X_train = model(X_train)\n",
    "    dnnsom_nn_y_pred_test, SOM_X_test = model(X_test)\n",
    "\n"
   ]
  },
  {
   "cell_type": "markdown",
   "metadata": {},
   "source": [
    "Reference SOM"
   ]
  },
  {
   "cell_type": "code",
   "execution_count": 41,
   "metadata": {},
   "outputs": [
    {
     "name": "stdout",
     "output_type": "stream",
     "text": [
      " [ 5000 / 5000 ] 100% - 0:00:00 left \n",
      " quantization error: 381.2248095046565\n"
     ]
    }
   ],
   "source": [
    "som.random_weights_init(X_train)\n",
    "som.train_random(X_train, REF_SOM_EPOCHS, verbose = True)"
   ]
  },
  {
   "cell_type": "markdown",
   "metadata": {},
   "source": [
    "Reference DNN"
   ]
  },
  {
   "cell_type": "code",
   "execution_count": null,
   "metadata": {},
   "outputs": [
    {
     "name": "stdout",
     "output_type": "stream",
     "text": [
      "Epoch: 0| Loss: 0.9929715394973755\n",
      "Epoch: 10| Loss: 0.9061583280563354\n",
      "Epoch: 20| Loss: 0.9060190320014954\n",
      "Epoch: 30| Loss: 0.9057531952857971\n",
      "Epoch: 40| Loss: 0.9053000211715698\n"
     ]
    }
   ],
   "source": [
    "loss_fn = nn.CrossEntropyLoss()\n",
    "optimizer = optim.SGD(ref_dnn.parameters(), lr=0.01)\n",
    " \n",
    "epoch_x = []\n",
    "loss_y = []\n",
    "acc_y = []\n",
    "for epoch in range(NN_EPOCHS):\n",
    "    epoch_x.append(epoch)\n",
    "\n",
    "    for i in range(0, len(X_train), NN_BATCH):\n",
    "        Xbatch = X_train[i:i+NN_BATCH]\n",
    "        y_pred = ref_dnn(Xbatch)\n",
    "        ybatch = y_train[i:i+NN_BATCH]\n",
    "        loss = loss_fn(y_pred, ybatch)\n",
    "        optimizer.zero_grad()\n",
    "        loss.backward()\n",
    "        optimizer.step()\n",
    "\n",
    "    with torch.no_grad():\n",
    "        nn_y_pred = ref_dnn(X_train)\n",
    "\n",
    "    acc_y.append((nn_y_pred.round() == y_train).float().mean())\n",
    "    loss_y.append(loss)\n",
    "    if epoch % 10 == 0: print(f'Epoch: {epoch}| Loss: {loss}')\n",
    "\n",
    "with torch.no_grad():\n",
    "    refdnn_nn_y_pred = ref_dnn(X_train)\n",
    "    refdnn_nn_y_pred_test = ref_dnn(X_test)\n"
   ]
  },
  {
   "cell_type": "markdown",
   "metadata": {},
   "source": [
    "## Evaluation"
   ]
  },
  {
   "cell_type": "markdown",
   "metadata": {},
   "source": [
    "DNN SOM - SOM"
   ]
  },
  {
   "cell_type": "code",
   "execution_count": 44,
   "metadata": {},
   "outputs": [
    {
     "name": "stdout",
     "output_type": "stream",
     "text": [
      "              precision    recall  f1-score   support\n",
      "\n",
      "           0       0.42      0.35      0.38       150\n",
      "           1       0.52      0.58      0.55       150\n",
      "           2       0.43      0.46      0.45       150\n",
      "           3       0.62      0.49      0.54       150\n",
      "           4       0.29      0.40      0.33        78\n",
      "\n",
      "   micro avg       0.46      0.46      0.46       678\n",
      "   macro avg       0.45      0.45      0.45       678\n",
      "weighted avg       0.47      0.46      0.46       678\n",
      " samples avg       0.46      0.46      0.46       678\n",
      "\n",
      "DNN-SOM Test Accuracy: 0.7840707898139954\n"
     ]
    }
   ],
   "source": [
    "dnn_som_y_pred = torch.stack(classifiers.classify_BMU(dnn_som, SOM_X_test, SOM_X_train, y_train), dim = 0)\n",
    "print(classification_report(y_test, dnn_som_y_pred))\n",
    "accuracy = (dnn_som_y_pred == y_test).float().mean()\n",
    "print(f\"DNN-SOM Test Accuracy: {accuracy}\")"
   ]
  },
  {
   "cell_type": "markdown",
   "metadata": {},
   "source": [
    "DNN SOM - DNN"
   ]
  },
  {
   "cell_type": "code",
   "execution_count": null,
   "metadata": {},
   "outputs": [
    {
     "name": "stdout",
     "output_type": "stream",
     "text": [
      "NN Test Accuracy: 0.9967551827430725\n"
     ]
    }
   ],
   "source": [
    "accuracy = (dnnsom_nn_y_pred_test.round() == y_test).float().mean()\n",
    "print(f\"NN Test Accuracy: {accuracy}\")"
   ]
  },
  {
   "cell_type": "markdown",
   "metadata": {},
   "source": [
    "Reference SOM"
   ]
  },
  {
   "cell_type": "code",
   "execution_count": 46,
   "metadata": {},
   "outputs": [
    {
     "name": "stdout",
     "output_type": "stream",
     "text": [
      "              precision    recall  f1-score   support\n",
      "\n",
      "           0       0.68      0.79      0.73       150\n",
      "           1       0.84      0.89      0.86       150\n",
      "           2       0.36      0.24      0.29       150\n",
      "           3       0.69      0.63      0.66       150\n",
      "           4       0.24      0.33      0.28        78\n",
      "\n",
      "   micro avg       0.60      0.60      0.60       678\n",
      "   macro avg       0.56      0.58      0.56       678\n",
      "weighted avg       0.60      0.60      0.59       678\n",
      " samples avg       0.60      0.60      0.60       678\n",
      "\n",
      "SOM Test Accuracy: 0.8407079577445984\n"
     ]
    }
   ],
   "source": [
    "som_y_pred = torch.stack(classifiers.classify_BMU(som, X_test, X_train, y_train), dim = 0)\n",
    "print(classification_report(y_test, som_y_pred))\n",
    "accuracy = (som_y_pred == y_test).float().mean()\n",
    "print(f\"SOM Test Accuracy: {accuracy}\")"
   ]
  },
  {
   "cell_type": "markdown",
   "metadata": {},
   "source": [
    "Reference DNN"
   ]
  },
  {
   "cell_type": "code",
   "execution_count": null,
   "metadata": {},
   "outputs": [
    {
     "name": "stdout",
     "output_type": "stream",
     "text": [
      "NN Test Accuracy: 0.9967551827430725\n"
     ]
    }
   ],
   "source": [
    "accuracy = (refdnn_nn_y_pred_test.round() == y_test).float().mean()\n",
    "print(f\"NN Test Accuracy: {accuracy}\")"
   ]
  },
  {
   "cell_type": "markdown",
   "metadata": {},
   "source": [
    "# Visualization"
   ]
  },
  {
   "cell_type": "markdown",
   "metadata": {},
   "source": [
    "## Reference DNN"
   ]
  },
  {
   "cell_type": "code",
   "execution_count": 48,
   "metadata": {},
   "outputs": [
    {
     "data": {
      "image/png": "[encoded data removed]",
      "text/plain": [
       "<Figure size 3000x300 with 3 Axes>"
      ]
     },
     "metadata": {},
     "output_type": "display_data"
    }
   ],
   "source": [
    "import math\n",
    "import matplotlib.pyplot as plt\n",
    "\n",
    "layers = [ref_dnn.h1.weight, ref_dnn.h2.weight, ref_dnn.out.weight]\n",
    "x = [] \n",
    "y = []\n",
    "i = 0\n",
    "f, axis = plt.subplots(3, 1)\n",
    "f.set_figheight(3)\n",
    "f.set_figwidth(30)\n",
    "for layer in layers:\n",
    "    x = [] \n",
    "    y = []\n",
    "    center = int(np.round(layer.shape[0]/2))\n",
    "    for node in layer:\n",
    "        y.append(i)\n",
    "        diff = node - layer[center]\n",
    "        x.append(np.abs(np.sum(diff.detach().numpy())))\n",
    "    axis[2-i].scatter(x, y)\n",
    "    i += 1\n",
    "\n"
   ]
  },
  {
   "cell_type": "markdown",
   "metadata": {},
   "source": [
    "## DNN-SOM"
   ]
  },
  {
   "cell_type": "code",
   "execution_count": 49,
   "metadata": {},
   "outputs": [
    {
     "data": {
      "image/png": "[encoded data removed]",
      "text/plain": [
       "<Figure size 3000x300 with 3 Axes>"
      ]
     },
     "metadata": {},
     "output_type": "display_data"
    }
   ],
   "source": [
    "import math\n",
    "import matplotlib.pyplot as plt\n",
    "\n",
    "layers = [model.h1.weight, model.h2.weight, model.out.weight]\n",
    "x = [] \n",
    "y = []\n",
    "i = 0\n",
    "f, axis = plt.subplots(3, 1)\n",
    "f.set_figheight(3)\n",
    "f.set_figwidth(30)\n",
    "for layer in layers:\n",
    "    x = [] \n",
    "    y = []\n",
    "    center = int(np.round(layer.shape[0]/2))\n",
    "    for node in layer:\n",
    "        y.append(i)\n",
    "        diff = node - layer[center]\n",
    "        x.append(np.abs(np.sum(diff.detach().numpy())))\n",
    "    axis[2-i].scatter(x, y)\n",
    "    i += 1"
   ]
  },
  {
   "cell_type": "markdown",
   "metadata": {},
   "source": [
    "## Ref SOM"
   ]
  },
  {
   "cell_type": "code",
   "execution_count": 50,
   "metadata": {},
   "outputs": [
    {
     "data": {
      "image/png": "[encoded data removed]",
      "text/plain": [
       "<Figure size 900x900 with 32 Axes>"
      ]
     },
     "metadata": {},
     "output_type": "display_data"
    }
   ],
   "source": [
    "import matplotlib.gridspec as gridspec\n",
    "\n",
    "label_names = list(set(labels))\n",
    "labels_map = som.labels_map(data, labels)\n",
    "\n",
    "fig = plt.figure(figsize=(9, 9))\n",
    "the_grid = gridspec.GridSpec(MSIZE[0], MSIZE[1], fig)\n",
    "for position in labels_map.keys():\n",
    "    label_fracs = [labels_map[position][l] for l in label_names]\n",
    "    plt.subplot(the_grid[MSIZE[0]-1-position[0], position[1]], aspect=1)\n",
    "    #plt.subplot(the_grid[som.x-1-position[1], position[0]], aspect=1)\n",
    "    patches, texts = plt.pie(label_fracs)\n",
    "\n",
    "plt.legend(patches, label_names)\n",
    "plt.show()"
   ]
  },
  {
   "cell_type": "markdown",
   "metadata": {},
   "source": [
    "## DNN SOM"
   ]
  },
  {
   "cell_type": "code",
   "execution_count": 51,
   "metadata": {},
   "outputs": [
    {
     "data": {
      "image/png": "[encoded data removed]",
      "text/plain": [
       "<Figure size 900x900 with 32 Axes>"
      ]
     },
     "metadata": {},
     "output_type": "display_data"
    }
   ],
   "source": [
    "# TODO: Seperate Pie Charts for train/test\n",
    "# TODO: Layer by Layer DNN visualizations\n",
    "# TODO: Introduce lambda term to SOM\n",
    "\n",
    "label_names = list(set(labels))\n",
    "som_x = np.concatenate((SOM_X_train, SOM_X_test))\n",
    "labels_map = dnn_som.labels_map(som_x, labels)\n",
    "\n",
    "fig = plt.figure(figsize=(9, 9))\n",
    "the_grid = gridspec.GridSpec(MSIZE[0], MSIZE[1], fig)\n",
    "for position in labels_map.keys():\n",
    "    label_fracs = [labels_map[position][l] for l in label_names]\n",
    "    plt.subplot(the_grid[MSIZE[0]-1-position[0], position[1]], aspect=1)\n",
    "    #plt.subplot(the_grid[som.x-1-position[1], position[0]], aspect=1)\n",
    "    patches, texts = plt.pie(label_fracs)\n",
    "\n",
    "plt.legend(patches, label_names)\n",
    "plt.show()"
   ]
  }
 ],
 "metadata": {
  "kernelspec": {
   "display_name": "tf-gpu",
   "language": "python",
   "name": "python3"
  },
  "language_info": {
   "codemirror_mode": {
    "name": "ipython",
    "version": 3
   },
   "file_extension": ".py",
   "mimetype": "text/x-python",
   "name": "python",
   "nbconvert_exporter": "python",
   "pygments_lexer": "ipython3",
   "version": "3.12.9"
  }
 },
 "nbformat": 4,
 "nbformat_minor": 2
}
